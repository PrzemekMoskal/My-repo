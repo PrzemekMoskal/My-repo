{
 "cells": [
  {
   "cell_type": "code",
   "execution_count": 2,
   "id": "6dc8ffa9",
   "metadata": {},
   "outputs": [],
   "source": [
    "\n",
    "import numpy as np\n",
    "from tqdm import tqdm\n",
    "import cv2 as cv\n",
    "import os\n",
    "import tensorflow as tf\n",
    "import matplotlib.pyplot as plt\n",
    "from keras.layers import Dense,Dropout,Flatten,Conv2D\n",
    "from sklearn.preprocessing import LabelBinarizer\n",
    "from sklearn.model_selection import train_test_split\n",
    "from sklearn.metrics import accuracy_score, confusion_matrix\n",
    "from keras.models import Sequential"
   ]
  },
  {
   "cell_type": "code",
   "execution_count": 4,
   "id": "e52193cc",
   "metadata": {},
   "outputs": [],
   "source": [
    "import tensorflow as tf"
   ]
  },
  {
   "cell_type": "code",
   "execution_count": 3,
   "id": "5febd7ac",
   "metadata": {},
   "outputs": [],
   "source": [
    "TRAIN_DIR='D:\\Machine_Learning\\Facial_Recognition\\Training'\n",
    "TEST_DIR='D:\\Machine_Learning\\Facial_Recognition\\Testing'"
   ]
  },
  {
   "cell_type": "code",
   "execution_count": 5,
   "id": "9fdc1333",
   "metadata": {},
   "outputs": [],
   "source": [
    "def load_data(dir_path,IMG_SIZE):\n",
    "    X=[]\n",
    "    Y=[]\n",
    "    i=0\n",
    "    labels=dict()\n",
    "    for path in tqdm(sorted(os.listdir(dir_path))):\n",
    "        if not path.startswith('.'):\n",
    "            labels[i]=path\n",
    "            for file in os.listdir(dir_path+'/'+path):\n",
    "                if not file.startswith('.'):\n",
    "                    img=cv.imread(dir_path+'/'+path+'/'+file)\n",
    "                    img=img.astype('float32')/255\n",
    "                    resized=cv.resize(img,IMG_SIZE,interpolation = cv.INTER_AREA)\n",
    "                    X.append(resized)\n",
    "                    Y.append(i)\n",
    "            i+=1\n",
    "    \n",
    "    X=np.array(X)\n",
    "    Y=np.array(Y)\n",
    "    print(f'{len(X)} images loaded from {dir_path}')\n",
    "    return X,Y,labels\n",
    "                    "
   ]
  },
  {
   "cell_type": "code",
   "execution_count": 6,
   "id": "cef1f1e6",
   "metadata": {},
   "outputs": [],
   "source": [
    "IMG_SIZE=(48,48)"
   ]
  },
  {
   "cell_type": "code",
   "execution_count": null,
   "id": "6edfadf2",
   "metadata": {},
   "outputs": [],
   "source": [
    "X_train,Y_train,train_labels=load_data(TRAIN_DIR,IMG_SIZE) # loading Training Dataset "
   ]
  },
  {
   "cell_type": "code",
   "execution_count": null,
   "id": "9cad9d97",
   "metadata": {},
   "outputs": [],
   "source": [
    "train_labels"
   ]
  },
  {
   "cell_type": "raw",
   "id": "6902c218",
   "metadata": {},
   "source": []
  },
  {
   "cell_type": "code",
   "execution_count": 1,
   "id": "3b0d1baf",
   "metadata": {},
   "outputs": [
    {
     "ename": "NameError",
     "evalue": "name 'load_data' is not defined",
     "output_type": "error",
     "traceback": [
      "\u001b[1;31m---------------------------------------------------------------------------\u001b[0m",
      "\u001b[1;31mNameError\u001b[0m                                 Traceback (most recent call last)",
      "Cell \u001b[1;32mIn [1], line 1\u001b[0m\n\u001b[1;32m----> 1\u001b[0m X_test,y_test,test_labels\u001b[38;5;241m=\u001b[39m\u001b[43mload_data\u001b[49m(TEST_DIR,IMG_SIZE) \u001b[38;5;66;03m# Loading Testing Dataset\u001b[39;00m\n\u001b[0;32m      2\u001b[0m \u001b[38;5;28mprint\u001b[39m(y_test)\n",
      "\u001b[1;31mNameError\u001b[0m: name 'load_data' is not defined"
     ]
    }
   ],
   "source": [
    "X_test,y_test,test_labels=load_data(TEST_DIR,IMG_SIZE) # Loading Testing Dataset\n",
    "print(y_test)"
   ]
  },
  {
   "cell_type": "code",
   "execution_count": null,
   "id": "ea4a088f",
   "metadata": {},
   "outputs": [],
   "source": [
    "def plot_samples(X, y, labels_dict, n=50): # Randomly Generating Plots from the dataset\n",
    "   \n",
    "    for index in range(len(labels_dict)):\n",
    "        imgs = X[np.argwhere(y == index)][:n]\n",
    "        j = 10\n",
    "        i = int(n/j)\n",
    "\n",
    "        plt.figure(figsize=(10,3))\n",
    "        c = 1\n",
    "        for img in imgs:\n",
    "            plt.subplot(i,j,c)\n",
    "            plt.imshow(img[0])\n",
    "\n",
    "            plt.xticks([])\n",
    "            plt.yticks([])\n",
    "            c += 1\n",
    "        plt.suptitle(labels_dict[index])\n",
    "        plt.show()"
   ]
  },
  {
   "cell_type": "code",
   "execution_count": null,
   "id": "e8bd4c86",
   "metadata": {},
   "outputs": [],
   "source": [
    "plot_samples(X_train,Y_train,train_labels,10)"
   ]
  },
  {
   "cell_type": "code",
   "execution_count": 10,
   "id": "2abc568b",
   "metadata": {},
   "outputs": [],
   "source": [
    "from keras.utils.np_utils import to_categorical\n"
   ]
  },
  {
   "cell_type": "code",
   "execution_count": null,
   "id": "346e2554",
   "metadata": {},
   "outputs": [],
   "source": [
    "Y_train=to_categorical(Y_train,num_classes=7)\n",
    "Y_train.shape"
   ]
  },
  {
   "cell_type": "code",
   "execution_count": 12,
   "id": "603b4ab7",
   "metadata": {},
   "outputs": [
    {
     "data": {
      "text/plain": [
       "(7748, 8)"
      ]
     },
     "execution_count": 12,
     "metadata": {},
     "output_type": "execute_result"
    }
   ],
   "source": [
    "Y_test=to_categorical(y_test,num_classes=8)\n",
    "Y_test.shape"
   ]
  },
  {
   "cell_type": "code",
   "execution_count": null,
   "id": "1915911c",
   "metadata": {},
   "outputs": [],
   "source": [
    "print(Y_train[:5])"
   ]
  },
  {
   "cell_type": "code",
   "execution_count": null,
   "id": "48dc7a9d",
   "metadata": {},
   "outputs": [],
   "source": [
    "\n",
    "from keras.models import Sequential\n",
    "from keras.layers import Dense, Dropout, Flatten\n",
    "from keras.layers import Conv2D, MaxPooling2D, BatchNormalization\n",
    "from keras.optimizers import SGD"
   ]
  },
  {
   "cell_type": "code",
   "execution_count": null,
   "id": "8c52fe55",
   "metadata": {},
   "outputs": [],
   "source": [
    "\n",
    "EPOCHS = 150\n",
    "BS = 128\n",
    "DROPOUT_RATE = 0.3\n",
    "SGD_LEARNING_RATE = 0.01\n",
    "SGD_DECAY = 0.0001"
   ]
  },
  {
   "cell_type": "code",
   "execution_count": null,
   "id": "fa46d86b",
   "metadata": {},
   "outputs": [],
   "source": [
    "#Custom Model used for Facial Expression Recognition\n",
    "model7 = Sequential()\n",
    "model7.add(BatchNormalization(input_shape=(128,128,3)))\n",
    "model7.add(Conv2D(32, (3, 3), activation='relu',padding='same', input_shape=(128,128,3),name=\"conv1\"))\n",
    "model7.add(BatchNormalization())\n",
    "#model.add(MaxPooling2D(pool_size=(2, 2),name=\"maxpool1\"))\n",
    "model7.add(Dropout(0.2))\n",
    "model7.add(Conv2D(32, (3, 3), activation='relu',padding='same',name=\"conv2\"))\n",
    "model7.add(BatchNormalization())\n",
    "model7.add(MaxPooling2D(pool_size=(2, 2),name=\"maxpool2\"))         \n",
    "model7.add(Dropout(0.2))\n",
    "model7.add(Conv2D(64, (3, 3), activation='relu',padding='same',name=\"conv3\"))\n",
    "model7.add(BatchNormalization())\n",
    "model7.add(MaxPooling2D(pool_size=(2, 2),name=\"maxpool3\"))\n",
    "model7.add(Dropout(0.2))\n",
    "model7.add(Conv2D(64, (3, 3), activation='relu',padding='same',name=\"conv4\"))\n",
    "model7.add(BatchNormalization())\n",
    "model7.add(MaxPooling2D(pool_size=(2, 2),name=\"maxpool4\"))\n",
    "model7.add(Dropout(0.2))\n",
    "model7.add(Flatten())\n",
    "model7.add(Dense(1024, activation='relu',name='fc1'))\n",
    "model7.add(Dropout(DROPOUT_RATE))\n",
    "model7.add(BatchNormalization())\n",
    "model7.add(Dense(7, activation='softmax',name='fcsoftmax'))"
   ]
  },
  {
   "cell_type": "code",
   "execution_count": null,
   "id": "9ffdbee9",
   "metadata": {},
   "outputs": [],
   "source": [
    "#TODO: weight decay of 0.0001...initial learning rate is set to 0.01 and reduced by a factor of 2 at every 25 epoch\n",
    "sgd = SGD(learning_rate=SGD_LEARNING_RATE,momentum=0.9, decay=SGD_DECAY, nesterov=True)\n",
    "model7.compile(loss='categorical_crossentropy',optimizer=sgd,metrics=['accuracy'])"
   ]
  },
  {
   "cell_type": "code",
   "execution_count": null,
   "id": "33a720cd",
   "metadata": {},
   "outputs": [],
   "source": [
    "model7=tf.keras.models.load_model('best_model(3).h5')"
   ]
  },
  {
   "cell_type": "code",
   "execution_count": null,
   "id": "ba86a3a9",
   "metadata": {},
   "outputs": [],
   "source": [
    "history=model7.fit(X_train,Y_train,epochs=20,shuffle=True)"
   ]
  },
  {
   "cell_type": "code",
   "execution_count": null,
   "id": "043a8733",
   "metadata": {},
   "outputs": [],
   "source": [
    "model7.save('best_model(3).h5')"
   ]
  },
  {
   "cell_type": "code",
   "execution_count": 13,
   "id": "2bd29849",
   "metadata": {},
   "outputs": [],
   "source": [
    "import itertools\n",
    "def plot_confusion_matrix(cm, classes,\n",
    "                          normalize=False,\n",
    "                          title='Confusion matrix',\n",
    "                          cmap=plt.cm.Blues):\n",
    "    \n",
    "    plt.figure(figsize = (6,6))\n",
    "    plt.imshow(cm, interpolation='nearest', cmap=cmap)\n",
    "    plt.title(title)\n",
    "    plt.colorbar()\n",
    "    tick_marks = np.arange(len(classes))\n",
    "    plt.xticks(tick_marks, classes, rotation=90)\n",
    "    plt.yticks(tick_marks, classes)\n",
    "    if normalize:\n",
    "        cm = cm.astype('float') / cm.sum(axis=1)[:, np.newaxis]\n",
    "\n",
    "    thresh = cm.max() / 2.\n",
    "    cm = np.round(cm,2)\n",
    "    for i, j in itertools.product(range(cm.shape[0]), range(cm.shape[1])):\n",
    "        plt.text(j, i, cm[i, j],\n",
    "                 horizontalalignment=\"center\",\n",
    "                 color=\"white\" if cm[i, j] > thresh else \"black\")\n",
    "    plt.tight_layout()\n",
    "    plt.ylabel('True label')\n",
    "    plt.xlabel('Predicted label')\n",
    "    plt.show()"
   ]
  },
  {
   "cell_type": "code",
   "execution_count": 14,
   "id": "9f5fdd23",
   "metadata": {},
   "outputs": [],
   "source": [
    "model7=tf.keras.models.load_model('ResNet_Facial.h5')"
   ]
  },
  {
   "cell_type": "code",
   "execution_count": 15,
   "id": "d58a66a0",
   "metadata": {},
   "outputs": [
    {
     "name": "stdout",
     "output_type": "stream",
     "text": [
      "243/243 [==============================] - 54s 220ms/step\n",
      "Test Accuracy =0.24\n"
     ]
    },
    {
     "data": {
      "image/png": "[encoded data removed]",
      "text/plain": [
       "<Figure size 600x600 with 2 Axes>"
      ]
     },
     "metadata": {},
     "output_type": "display_data"
    }
   ],
   "source": [
    "from sklearn.metrics import accuracy_score,confusion_matrix\n",
    "#Validations on test set\n",
    "predictions=model7.predict(X_test)\n",
    "y_pred=[np.argmax(probas) for probas in predictions]\n",
    "\n",
    "accuracy=accuracy_score(y_test,y_pred)\n",
    "print('Test Accuracy =%.2f' % accuracy)\n",
    "confusion_mtx=confusion_matrix(y_test,y_pred)\n",
    "cm=plot_confusion_matrix(confusion_mtx,classes=list(test_labels.items()),normalize=False)"
   ]
  },
  {
   "cell_type": "code",
   "execution_count": null,
   "id": "06883558",
   "metadata": {},
   "outputs": [],
   "source": [
    "batch_size=64\n",
    "from keras.preprocessing.image import ImageDataGenerator\n",
    "datagen_test=ImageDataGenerator(rescale=1./255)\n",
    "pred_generator=datagen_test.flow_from_directory(TEST_DIR,\n",
    "                                                 target_size = (48,48),\n",
    "                                                 color_mode = \"grayscale\",\n",
    "                                                 batch_size = batch_size,\n",
    "                                                 class_mode = \"categorical\",\n",
    "                                                 shuffle=False)"
   ]
  },
  {
   "cell_type": "code",
   "execution_count": null,
   "id": "59bdeee9",
   "metadata": {},
   "outputs": [],
   "source": [
    "new_predictions=model_v.predict(X_test)\n",
    "y_pred=[np.argmax(probas) for probas in new_predictions]\n",
    "y_pred=[test_labels[k] for k in y_pred]"
   ]
  },
  {
   "cell_type": "code",
   "execution_count": null,
   "id": "5a6d9843",
   "metadata": {},
   "outputs": [],
   "source": [
    "filenames=pred_generator.filenames\n",
    "actual_class=[test_labels[h] for h in pred_generator.classes]"
   ]
  },
  {
   "cell_type": "code",
   "execution_count": null,
   "id": "c284ac35",
   "metadata": {},
   "outputs": [],
   "source": [
    "import pandas as pd\n",
    "pred_result = pd.DataFrame({\"Filename\":filenames,\n",
    "                           \"Predictions\":y_pred,\n",
    "                           \"Actual Values\":actual_class})\n",
    "\n",
    "pred_result.head()"
   ]
  },
  {
   "cell_type": "code",
   "execution_count": null,
   "id": "2884f2d1",
   "metadata": {},
   "outputs": [],
   "source": [
    "from random import randint\n",
    "\n",
    "l = len(filenames)\n",
    "base_path = TEST_DIR\n",
    "for i in range(10):  # 10 images\n",
    "    \n",
    "    rnd_number = randint(0,l-1)\n",
    "    filename,pred_class,actual_class = pred_result.loc[rnd_number]\n",
    "    \n",
    "    img_path = os.path.join(base_path,filename)\n",
    "    img = cv.imread(img_path)\n",
    "    img = cv.cvtColor(img,cv.COLOR_BGR2RGB)\n",
    "    plt.imshow(img)\n",
    "    plt.title(\"Predicted Class: {} {} Actual Class: {}\".format(pred_class,'\\n',actual_class))\n",
    "    plt.show()\n",
    "    pass"
   ]
  },
  {
   "cell_type": "code",
   "execution_count": null,
   "id": "201c1fe9",
   "metadata": {},
   "outputs": [],
   "source": []
  }
 ],
 "metadata": {
  "kernelspec": {
   "display_name": "Python 3 (ipykernel)",
   "language": "python",
   "name": "python3"
  },
  "language_info": {
   "codemirror_mode": {
    "name": "ipython",
    "version": 3
   },
   "file_extension": ".py",
   "mimetype": "text/x-python",
   "name": "python",
   "nbconvert_exporter": "python",
   "pygments_lexer": "ipython3",
   "version": "3.10.6"
  }
 },
 "nbformat": 4,
 "nbformat_minor": 5
}
